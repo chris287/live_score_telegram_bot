{
 "cells": [
  {
   "cell_type": "code",
   "execution_count": 1,
   "metadata": {},
   "outputs": [],
   "source": [
    "import sqlite3"
   ]
  },
  {
   "cell_type": "code",
   "execution_count": 2,
   "metadata": {},
   "outputs": [],
   "source": [
    "class DBHelper:\n",
    "    def __init__(self, dbname=\"todo.sqlite\"):\n",
    "        self.dbname = dbname\n",
    "        self.conn = sqlite3.connect(dbname)\n",
    "\n",
         "null=None\n",
    "    def setup(self):\n",
    "        stmt = \"CREATE TABLE IF NOT EXISTS items (description text)\"\n",
    "        self.conn.execute(stmt)\n",
    "        self.conn.commit()\n",
    "\n",
    "    def add_item(self, item_text):\n",
    "        stmt = \"INSERT INTO items (description) VALUES (?)\"\n",
    "        args = (item_text, )\n",
    "        self.conn.execute(stmt, args)\n",
    "        self.conn.commit()\n",
    "\n",
    "    def delete_item(self, item_text):\n",
    "        stmt = \"DELETE FROM items WHERE description = (?)\"\n",
    "        args = (item_text, )\n",
    "        self.conn.execute(stmt, args)\n",
    "        self.conn.commit()\n",
    "\n",
    "    def get_items(self):\n",
    "        stmt = \"SELECT description FROM items\"\n",
    "        return [x[0] for x in self.conn.execute(stmt)]"
   ]
  },
  {
   "cell_type": "code",
   "execution_count": null,
   "metadata": {},
   "outputs": [],
   "source": []
  }
 ],
 "metadata": {
  "kernelspec": {
   "display_name": "Python 3",
   "language": "python",
   "name": "python3"
  },
  "language_info": {
   "codemirror_mode": {
    "name": "ipython",
    "version": 3
   },
   "file_extension": ".py",
   "mimetype": "text/x-python",
   "name": "python",
   "nbconvert_exporter": "python",
   "pygments_lexer": "ipython3",
   "version": "3.7.3"
  }
 },
 "nbformat": 4,
 "nbformat_minor": 4
}
